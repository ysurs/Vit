{
  "nbformat": 4,
  "nbformat_minor": 0,
  "metadata": {
    "colab": {
      "provenance": [],
      "authorship_tag": "ABX9TyOdTNh/OycwJVMmnnDrzDOq",
      "include_colab_link": true
    },
    "kernelspec": {
      "name": "python3",
      "display_name": "Python 3"
    },
    "language_info": {
      "name": "python"
    },
    "accelerator": "GPU",
    "gpuClass": "standard"
  },
  "cells": [
    {
      "cell_type": "markdown",
      "metadata": {
        "id": "view-in-github",
        "colab_type": "text"
      },
      "source": [
        "<a href=\"https://colab.research.google.com/github/ysurs/Vit/blob/main/ViT_paper_experimentation.ipynb\" target=\"_parent\"><img src=\"https://colab.research.google.com/assets/colab-badge.svg\" alt=\"Open In Colab\"/></a>"
      ]
    },
    {
      "cell_type": "markdown",
      "source": [
        "### Basic imports"
      ],
      "metadata": {
        "id": "u-7RiO6T-MrH"
      }
    },
    {
      "cell_type": "code",
      "source": [
        "!pip install -q torchinfo"
      ],
      "metadata": {
        "id": "b8OiWPxB3RE4"
      },
      "execution_count": 1,
      "outputs": []
    },
    {
      "cell_type": "code",
      "execution_count": 2,
      "metadata": {
        "id": "A5NWZ6lL2ljw"
      },
      "outputs": [],
      "source": [
        "import torch\n",
        "import torchvision\n",
        "import torch.nn as nn\n",
        "import torch.nn.functional as F\n",
        "import torch.optim as optim\n",
        "import torch.utils.data as data\n",
        "import torchvision.datasets as datasets\n",
        "import torchvision.transforms as transforms\n",
        "from torchinfo import summary\n",
        "from PIL import Image\n",
        "from torch.utils.data import DataLoader\n",
        "import matplotlib.pyplot as plt"
      ]
    },
    {
      "cell_type": "code",
      "source": [
        "import numpy as np"
      ],
      "metadata": {
        "id": "EutcfJdYHBDd"
      },
      "execution_count": 3,
      "outputs": []
    },
    {
      "cell_type": "code",
      "source": [
        "import PIL"
      ],
      "metadata": {
        "id": "xwml_aw0Is91"
      },
      "execution_count": 4,
      "outputs": []
    },
    {
      "cell_type": "code",
      "source": [
        "import os\n",
        "import zipfile\n",
        "\n",
        "from pathlib import Path\n",
        "\n",
        "import requests"
      ],
      "metadata": {
        "id": "b5UyoQJ85yTo"
      },
      "execution_count": 5,
      "outputs": []
    },
    {
      "cell_type": "code",
      "source": [
        "device = \"cuda\" if torch.cuda.is_available() else \"cpu\"\n",
        "device"
      ],
      "metadata": {
        "colab": {
          "base_uri": "https://localhost:8080/",
          "height": 35
        },
        "id": "9yPZlbiZ3llL",
        "outputId": "fe1ef571-bb01-4dab-c867-f6ef6ee6066b"
      },
      "execution_count": 6,
      "outputs": [
        {
          "output_type": "execute_result",
          "data": {
            "text/plain": [
              "'cpu'"
            ],
            "application/vnd.google.colaboratory.intrinsic+json": {
              "type": "string"
            }
          },
          "metadata": {},
          "execution_count": 6
        }
      ]
    },
    {
      "cell_type": "markdown",
      "source": [
        "### Getting data and storing it in folder"
      ],
      "metadata": {
        "id": "0x-JrbRC-S7o"
      }
    },
    {
      "cell_type": "code",
      "source": [
        "# Getting the data and returning image dataset path\n",
        "# Taken as is from Daniel Bourke's Pytorch from zero to mastery\n",
        "\n",
        "def download_data(source: str, \n",
        "                  destination: str,\n",
        "                  remove_source: bool = True) -> Path:\n",
        "    \n",
        "\n",
        "    # Setup path to data folder\n",
        "    data_path = Path(\"data/\")\n",
        "    image_path = data_path / destination\n",
        "\n",
        "    # If the image folder doesn't exist, download it and prepare it... \n",
        "    if image_path.is_dir():\n",
        "        print(f\"[INFO] {image_path} directory exists, skipping download.\")\n",
        "    else:\n",
        "        print(f\"[INFO] Did not find {image_path} directory, creating one...\")\n",
        "        image_path.mkdir(parents=True, exist_ok=True)\n",
        "        \n",
        "        # Download pizza, steak, sushi data\n",
        "        target_file = Path(source).name\n",
        "        with open(data_path / target_file, \"wb\") as f:\n",
        "            request = requests.get(source)\n",
        "            print(f\"[INFO] Downloading {target_file} from {source}...\")\n",
        "            f.write(request.content)\n",
        "\n",
        "        # Unzip pizza, steak, sushi data\n",
        "        with zipfile.ZipFile(data_path / target_file, \"r\") as zip_ref:\n",
        "            print(f\"[INFO] Unzipping {target_file} data...\") \n",
        "            zip_ref.extractall(image_path)\n",
        "\n",
        "        # Remove .zip file\n",
        "        if remove_source:\n",
        "            os.remove(data_path / target_file)\n",
        "    \n",
        "    return image_path\n",
        "\n",
        "image_path = download_data(source=\"https://github.com/mrdbourke/pytorch-deep-learning/raw/main/data/pizza_steak_sushi.zip\",\n",
        "                           destination=\"pizza_steak_sushi\")\n",
        "image_path"
      ],
      "metadata": {
        "colab": {
          "base_uri": "https://localhost:8080/"
        },
        "id": "Sp6mg1OI3zVI",
        "outputId": "9fc908a3-f6ae-44b1-d18f-917221ad2715"
      },
      "execution_count": 7,
      "outputs": [
        {
          "output_type": "stream",
          "name": "stdout",
          "text": [
            "[INFO] Did not find data/pizza_steak_sushi directory, creating one...\n",
            "[INFO] Downloading pizza_steak_sushi.zip from https://github.com/mrdbourke/pytorch-deep-learning/raw/main/data/pizza_steak_sushi.zip...\n",
            "[INFO] Unzipping pizza_steak_sushi.zip data...\n"
          ]
        },
        {
          "output_type": "execute_result",
          "data": {
            "text/plain": [
              "PosixPath('data/pizza_steak_sushi')"
            ]
          },
          "metadata": {},
          "execution_count": 7
        }
      ]
    },
    {
      "cell_type": "code",
      "source": [
        "# Setup directory paths to train and test images\n",
        "train_dir = image_path / \"train\"\n",
        "test_dir = image_path / \"test\""
      ],
      "metadata": {
        "id": "yga8cP3844W7"
      },
      "execution_count": 8,
      "outputs": []
    },
    {
      "cell_type": "markdown",
      "source": [
        "### Single image transformation"
      ],
      "metadata": {
        "id": "5weDoaXi-aq8"
      }
    },
    {
      "cell_type": "code",
      "source": [
        "# transforming images to suit the needs of ViT\n",
        "\n",
        "image_size=224\n",
        "\n",
        "transform=transforms.Compose([transforms.Resize((image_size,image_size)),transforms.ToTensor()])\n",
        "\n"
      ],
      "metadata": {
        "id": "7F99tit36GRU"
      },
      "execution_count": 9,
      "outputs": []
    },
    {
      "cell_type": "code",
      "source": [
        "single_image=Image.open('/content/data/pizza_steak_sushi/train/pizza/1008844.jpg')"
      ],
      "metadata": {
        "id": "fRGpINmu8oLW"
      },
      "execution_count": 10,
      "outputs": []
    },
    {
      "cell_type": "code",
      "source": [
        "\n",
        "transform(single_image).shape"
      ],
      "metadata": {
        "colab": {
          "base_uri": "https://localhost:8080/"
        },
        "id": "Fm8wL3DA90ZP",
        "outputId": "af36e161-97a5-4230-f2c5-0dbba91e401b"
      },
      "execution_count": 11,
      "outputs": [
        {
          "output_type": "execute_result",
          "data": {
            "text/plain": [
              "torch.Size([3, 224, 224])"
            ]
          },
          "metadata": {},
          "execution_count": 11
        }
      ]
    },
    {
      "cell_type": "markdown",
      "source": [
        "****"
      ],
      "metadata": {
        "id": "ze8miMHIZLdY"
      }
    },
    {
      "cell_type": "markdown",
      "source": [
        "### Creating DataLoaders"
      ],
      "metadata": {
        "id": "XRAhV8-KCeZ5"
      }
    },
    {
      "cell_type": "code",
      "source": [
        "import os\n",
        "NUM_WORKERS = os.cpu_count()"
      ],
      "metadata": {
        "id": "GbVq8gBjDfxU"
      },
      "execution_count": 12,
      "outputs": []
    },
    {
      "cell_type": "code",
      "source": [
        "NUM_WORKERS"
      ],
      "metadata": {
        "colab": {
          "base_uri": "https://localhost:8080/"
        },
        "id": "nRtBBGZfDiEU",
        "outputId": "d5983a78-ea81-496f-fb36-afd54b161d78"
      },
      "execution_count": 13,
      "outputs": [
        {
          "output_type": "execute_result",
          "data": {
            "text/plain": [
              "2"
            ]
          },
          "metadata": {},
          "execution_count": 13
        }
      ]
    },
    {
      "cell_type": "code",
      "source": [
        "# Taken as is from Daniel Bourke's Pytorch from zero to mastery\n",
        "\n",
        "def create_dataloaders(\n",
        "    train_dir: str, \n",
        "    test_dir: str, \n",
        "    transform: transforms.Compose, \n",
        "    batch_size: int, \n",
        "    num_workers: int=NUM_WORKERS\n",
        "):\n",
        "  \"\"\"Creates training and testing DataLoaders.\n",
        "  Takes in a training directory and testing directory path and turns\n",
        "  them into PyTorch Datasets and then into PyTorch DataLoaders.\n",
        "  Args:\n",
        "    train_dir: Path to training directory.\n",
        "    test_dir: Path to testing directory.\n",
        "    transform: torchvision transforms to perform on training and testing data.\n",
        "    batch_size: Number of samples per batch in each of the DataLoaders.\n",
        "    num_workers: An integer for number of workers per DataLoader.\n",
        "  Returns:\n",
        "    A tuple of (train_dataloader, test_dataloader, class_names).\n",
        "    Where class_names is a list of the target classes.\n",
        "    Example usage:\n",
        "      train_dataloader, test_dataloader, class_names = \\\n",
        "        = create_dataloaders(train_dir=path/to/train_dir,\n",
        "                             test_dir=path/to/test_dir,\n",
        "                             transform=some_transform,\n",
        "                             batch_size=32,\n",
        "                             num_workers=4)\n",
        "  \"\"\"\n",
        "  # Use ImageFolder to create dataset(s)\n",
        "  train_data = datasets.ImageFolder(train_dir, transform=transform)\n",
        "  test_data = datasets.ImageFolder(test_dir, transform=transform)\n",
        "\n",
        "  # Get class names\n",
        "  class_names = train_data.classes\n",
        "\n",
        "  # Turn images into data loaders\n",
        "  train_dataloader = DataLoader(\n",
        "      train_data,\n",
        "      batch_size=batch_size,\n",
        "      shuffle=True,\n",
        "      num_workers=num_workers,\n",
        "      pin_memory=True,\n",
        "  )\n",
        "  test_dataloader = DataLoader(\n",
        "      test_data,\n",
        "      batch_size=batch_size,\n",
        "      shuffle=False,\n",
        "      num_workers=num_workers,\n",
        "      pin_memory=True,\n",
        "  )\n",
        "\n",
        "  return train_dataloader, test_dataloader, class_names"
      ],
      "metadata": {
        "id": "AIlmx5zfCg8E"
      },
      "execution_count": 14,
      "outputs": []
    },
    {
      "cell_type": "code",
      "source": [
        "# Set the batch size\n",
        "BATCH_SIZE = 32 # this is lower than the ViT paper but it's because we're starting small\n",
        "\n",
        "# Create data loaders\n",
        "train_dataloader, test_dataloader, class_names = create_dataloaders(\n",
        "    train_dir=train_dir,\n",
        "    test_dir=test_dir,\n",
        "    transform=transform, \n",
        "    batch_size=BATCH_SIZE\n",
        ")\n",
        "\n",
        "train_dataloader, test_dataloader, class_names"
      ],
      "metadata": {
        "colab": {
          "base_uri": "https://localhost:8080/"
        },
        "id": "4ISBAd4LGUFb",
        "outputId": "70a1755e-6293-41fb-f403-31931449ec69"
      },
      "execution_count": 15,
      "outputs": [
        {
          "output_type": "execute_result",
          "data": {
            "text/plain": [
              "(<torch.utils.data.dataloader.DataLoader at 0x7fee08e32500>,\n",
              " <torch.utils.data.dataloader.DataLoader at 0x7fee08e33f70>,\n",
              " ['pizza', 'steak', 'sushi'])"
            ]
          },
          "metadata": {},
          "execution_count": 15
        }
      ]
    },
    {
      "cell_type": "markdown",
      "source": [
        "****"
      ],
      "metadata": {
        "id": "k6mws885ZHB2"
      }
    },
    {
      "cell_type": "markdown",
      "source": [
        "### Inspecting the dataloaders"
      ],
      "metadata": {
        "id": "7jdf-sULKfyg"
      }
    },
    {
      "cell_type": "code",
      "source": [
        "for i in train_dataloader:\n",
        "  first_batch=i\n",
        "  break"
      ],
      "metadata": {
        "id": "8qEkSCs-Gl4K"
      },
      "execution_count": 16,
      "outputs": []
    },
    {
      "cell_type": "code",
      "source": [
        "type(first_batch)"
      ],
      "metadata": {
        "colab": {
          "base_uri": "https://localhost:8080/"
        },
        "id": "YSQ6r5OeGtpn",
        "outputId": "1ab501b1-61bf-4e7a-9503-bcdb928d0fc5"
      },
      "execution_count": 17,
      "outputs": [
        {
          "output_type": "execute_result",
          "data": {
            "text/plain": [
              "list"
            ]
          },
          "metadata": {},
          "execution_count": 17
        }
      ]
    },
    {
      "cell_type": "code",
      "source": [
        "\n",
        "first_batch[1][0]"
      ],
      "metadata": {
        "colab": {
          "base_uri": "https://localhost:8080/"
        },
        "id": "UzLog9tpKZKR",
        "outputId": "89313f82-40a6-4f3b-e6f6-65451e2c0076"
      },
      "execution_count": 18,
      "outputs": [
        {
          "output_type": "execute_result",
          "data": {
            "text/plain": [
              "tensor(0)"
            ]
          },
          "metadata": {},
          "execution_count": 18
        }
      ]
    },
    {
      "cell_type": "code",
      "source": [
        "trans=(transforms.ToPILImage()(first_batch[0][0]))"
      ],
      "metadata": {
        "id": "pdDKCORkG_IR"
      },
      "execution_count": 19,
      "outputs": []
    },
    {
      "cell_type": "code",
      "source": [
        "first_batch[0][0].shape"
      ],
      "metadata": {
        "colab": {
          "base_uri": "https://localhost:8080/"
        },
        "id": "cjno1LqaJmXQ",
        "outputId": "cff60e83-3d1e-477f-fea7-1f3c97b662ef"
      },
      "execution_count": 20,
      "outputs": [
        {
          "output_type": "execute_result",
          "data": {
            "text/plain": [
              "torch.Size([3, 224, 224])"
            ]
          },
          "metadata": {},
          "execution_count": 20
        }
      ]
    },
    {
      "cell_type": "code",
      "source": [
        "# This is the fist image \n",
        "trans.show()"
      ],
      "metadata": {
        "colab": {
          "base_uri": "https://localhost:8080/",
          "height": 241
        },
        "id": "Kf6aEH3oHHcp",
        "outputId": "8327c501-95fa-4f2d-f07d-7ccac7aa78ee"
      },
      "execution_count": 21,
      "outputs": [
        {
          "output_type": "display_data",
          "data": {
            "text/plain": [
              "<PIL.Image.Image image mode=RGB size=224x224 at 0x7FEE08E32560>"
            ],
            "image/png": "[encoded data removed]"
          },
          "metadata": {}
        }
      ]
    },
    {
      "cell_type": "markdown",
      "source": [
        "### Another way to visualize samples from dataloaders"
      ],
      "metadata": {
        "id": "ga9tUGrOM7qu"
      }
    },
    {
      "cell_type": "code",
      "source": [
        "images_batch,labels_batch=next(iter(train_dataloader))"
      ],
      "metadata": {
        "id": "tQZBJgezIHzD"
      },
      "execution_count": 22,
      "outputs": []
    },
    {
      "cell_type": "code",
      "source": [
        "# First batch of 32 elements\n",
        "labels_batch"
      ],
      "metadata": {
        "colab": {
          "base_uri": "https://localhost:8080/"
        },
        "id": "wgFvnHAjNYHC",
        "outputId": "0416f8a1-1516-413d-e736-890db2030aaa"
      },
      "execution_count": 23,
      "outputs": [
        {
          "output_type": "execute_result",
          "data": {
            "text/plain": [
              "tensor([1, 2, 2, 2, 1, 2, 0, 2, 2, 0, 1, 1, 2, 0, 1, 2, 2, 2, 0, 0, 1, 1, 0, 0,\n",
              "        0, 1, 2, 0, 1, 1, 1, 1])"
            ]
          },
          "metadata": {},
          "execution_count": 23
        }
      ]
    },
    {
      "cell_type": "code",
      "source": [
        "# First batch of 32 images\n",
        "images_batch.shape"
      ],
      "metadata": {
        "colab": {
          "base_uri": "https://localhost:8080/"
        },
        "id": "JP3sFWWNNldH",
        "outputId": "6faccc35-e56e-4344-9851-d2a0592a11ef"
      },
      "execution_count": 24,
      "outputs": [
        {
          "output_type": "execute_result",
          "data": {
            "text/plain": [
              "torch.Size([32, 3, 224, 224])"
            ]
          },
          "metadata": {},
          "execution_count": 24
        }
      ]
    },
    {
      "cell_type": "code",
      "source": [
        "### Using matplotlib's imshow. We will have to permute the shape from channels, height, width to height,width, channels to use with imshow\n",
        "\n",
        "plt.imshow(torch.permute(images_batch[0],(1,2,0)))"
      ],
      "metadata": {
        "colab": {
          "base_uri": "https://localhost:8080/",
          "height": 452
        },
        "id": "dvwvsWgKNuFM",
        "outputId": "386478ce-de1d-4379-ce14-ff4501d6f8a1"
      },
      "execution_count": 25,
      "outputs": [
        {
          "output_type": "execute_result",
          "data": {
            "text/plain": [
              "<matplotlib.image.AxesImage at 0x7fee08e77b80>"
            ]
          },
          "metadata": {},
          "execution_count": 25
        },
        {
          "output_type": "display_data",
          "data": {
            "text/plain": [
              "<Figure size 640x480 with 1 Axes>"
            ],
            "image/png": "[encoded data removed]"
          },
          "metadata": {}
        }
      ]
    },
    {
      "cell_type": "code",
      "source": [
        "class_names[labels_batch[0]]"
      ],
      "metadata": {
        "colab": {
          "base_uri": "https://localhost:8080/",
          "height": 35
        },
        "id": "DF6sJseOOomw",
        "outputId": "8f040ef3-fe93-46b6-910f-cfdf913e3672"
      },
      "execution_count": 26,
      "outputs": [
        {
          "output_type": "execute_result",
          "data": {
            "text/plain": [
              "'steak'"
            ],
            "application/vnd.google.colaboratory.intrinsic+json": {
              "type": "string"
            }
          },
          "metadata": {},
          "execution_count": 26
        }
      ]
    },
    {
      "cell_type": "markdown",
      "source": [
        "***"
      ],
      "metadata": {
        "id": "_sVXdanlVugt"
      }
    },
    {
      "cell_type": "markdown",
      "source": [
        "### We will be coding up these equations and will be referencing the architecture also"
      ],
      "metadata": {
        "id": "h9eaNCdgVjDW"
      }
    },
    {
      "cell_type": "markdown",
      "source": [
        "\\begin{aligned}\n",
        "\\mathbf{z}_0 & =\\left[\\mathbf{x}_{\\text {class }} ; \\mathbf{x}_p^1 \\mathbf{E} ; \\mathbf{x}_p^2 \\mathbf{E} ; \\cdots ; \\mathbf{x}_p^N \\mathbf{E}\\right]+\\mathbf{E}_{\\text {pos }}, & & \\mathbf{E} \\in \\mathbb{R}^{\\left(P^2 \\cdot C\\right) \\times D}, \\mathbf{E}_{\\text {pos }} \\in \\mathbb{R}^{(N+1) \\times D} \\\\\n",
        "\\mathbf{z}_{\\ell}^{\\prime} & =\\operatorname{MSA}\\left(\\operatorname{LN}\\left(\\mathbf{z}_{\\ell-1}\\right)\\right)+\\mathbf{z}_{\\ell-1}, & & \\ell=1 \\ldots L \\\\\n",
        "\\mathbf{z}_{\\ell} & =\\operatorname{MLP}\\left(\\mathrm{LN}\\left(\\mathbf{z}_{\\ell}^{\\prime}\\right)\\right)+\\mathbf{z}_{\\ell}^{\\prime}, & & \\ell=1 \\ldots L \\\\\n",
        "\\mathbf{y} & =\\operatorname{LN}\\left(\\mathbf{z}_L^0\\right) & &\n",
        "\\end{aligned}"
      ],
      "metadata": {
        "id": "qJvC2gmtVei4"
      }
    },
    {
      "cell_type": "markdown",
      "source": [
        "### Creating patches from images- Sorting out the shapes first"
      ],
      "metadata": {
        "id": "T4duWQn7hLnQ"
      }
    },
    {
      "cell_type": "code",
      "source": [
        "# Create example values\n",
        "height = 224 # H (\"The training resolution is 224.\")\n",
        "width = 224 # W\n",
        "color_channels = 3 # C\n",
        "patch_size = 16 # P\n",
        "\n",
        "number_of_patches = int((height * width) / patch_size**2)\n",
        "print(f\"No of patches is {number_of_patches}\")\n",
        "\n",
        "image_input_shape=(height,width,color_channels)\n",
        "image_to_patches_shape=(number_of_patches,(patch_size**2)*color_channels)\n",
        "\n",
        "print(f'the shape of input image is {image_input_shape}')\n",
        "print(f'the shape of input image after patching is {image_to_patches_shape}')"
      ],
      "metadata": {
        "colab": {
          "base_uri": "https://localhost:8080/"
        },
        "id": "0HcReHdWVfsK",
        "outputId": "c45918db-1fd9-4311-f346-221214e32692"
      },
      "execution_count": 27,
      "outputs": [
        {
          "output_type": "stream",
          "name": "stdout",
          "text": [
            "No of patches is 196\n",
            "the shape of input image is (224, 224, 3)\n",
            "the shape of input image after patching is (196, 768)\n"
          ]
        }
      ]
    },
    {
      "cell_type": "markdown",
      "source": [
        "#### For processing inside our model, we will have to convert patches which are still of shape 16X16 into embeddings. The embedding length for each patch will be 16X16X3 which is 768. So each patch will be embedded in a tensor of length 768."
      ],
      "metadata": {
        "id": "mvzITUfjSZwI"
      }
    },
    {
      "cell_type": "markdown",
      "source": [
        "#### (196,768) tells us that each image should be converted into 196 patches where each patch is represented by a tensor of shape [768]"
      ],
      "metadata": {
        "id": "XYMexMWFimjf"
      }
    },
    {
      "cell_type": "markdown",
      "source": [
        "#### Visualising a rectangular patch"
      ],
      "metadata": {
        "id": "i5B1nSWrjqB-"
      }
    },
    {
      "cell_type": "code",
      "source": [
        "image_permuted = images_batch[0].permute(1, 2, 0)\n",
        "\n",
        "# Index to plot the top row of patched pixels\n",
        "patch_size = 16\n",
        "plt.figure(figsize=(patch_size, patch_size))\n",
        "plt.imshow(image_permuted[:patch_size,:,:]);"
      ],
      "metadata": {
        "id": "bUIjBXK1h_Xb",
        "outputId": "7fc46858-db7b-4cb8-a042-546e7b57a7b3",
        "colab": {
          "base_uri": "https://localhost:8080/",
          "height": 152
        }
      },
      "execution_count": 28,
      "outputs": [
        {
          "output_type": "display_data",
          "data": {
            "text/plain": [
              "<Figure size 1600x1600 with 1 Axes>"
            ],
            "image/png": "[encoded data removed]"
          },
          "metadata": {}
        }
      ]
    },
    {
      "cell_type": "markdown",
      "source": [
        "#### Breaking down the above into smaller patches"
      ],
      "metadata": {
        "id": "sKkvEnymVX58"
      }
    },
    {
      "cell_type": "code",
      "source": [
        "image_size=224\n",
        "patch_size=16\n",
        "num_patches=image_size/patch_size\n",
        "\n",
        "# Create a series of subplots\n",
        "fig, axs = plt.subplots(nrows=1, \n",
        "                        ncols=image_size // patch_size, \n",
        "                        figsize=(num_patches, num_patches),\n",
        "                        sharex=True,\n",
        "                        sharey=True)\n",
        "\n",
        "\n",
        "for i, patch in enumerate(range(0, 224, patch_size)):\n",
        "  axs[i].imshow(image_permuted[:patch_size,patch:patch+patch_size,:])\n",
        "  axs[i].set_xlabel(f'{i}')\n",
        "  axs[i].set_xticks([])\n",
        "  axs[i].set_yticks([])"
      ],
      "metadata": {
        "id": "e3_whseUmH4m",
        "colab": {
          "base_uri": "https://localhost:8080/",
          "height": 121
        },
        "outputId": "223b9646-9fc0-49a7-ff2c-cd59b4cb38ba"
      },
      "execution_count": 29,
      "outputs": [
        {
          "output_type": "display_data",
          "data": {
            "text/plain": [
              "<Figure size 1400x1400 with 14 Axes>"
            ],
            "image/png": "[encoded data removed]"
          },
          "metadata": {}
        }
      ]
    },
    {
      "cell_type": "markdown",
      "source": [
        "#### Each row of the image gives us 14 patches"
      ],
      "metadata": {
        "id": "eg3L5N4rSzwN"
      }
    },
    {
      "cell_type": "markdown",
      "source": [
        "#### Now we have patches of shape 16X16."
      ],
      "metadata": {
        "id": "AyutWHKSX1cw"
      }
    },
    {
      "cell_type": "markdown",
      "source": [
        "#### Like this, the whole image needs to be converted into patches- this is the process of patchification."
      ],
      "metadata": {
        "id": "yU5egcFuYjeU"
      }
    },
    {
      "cell_type": "markdown",
      "source": [
        "****"
      ],
      "metadata": {
        "id": "hF9SI_-XY8oU"
      }
    },
    {
      "cell_type": "markdown",
      "source": [
        "### In the next step, we need to change these patches into embeddings\n",
        "\n",
        "The operation which we just performed is similar to the process of applying convolution operation on the image."
      ],
      "metadata": {
        "id": "q317jHthY1Zt"
      }
    },
    {
      "cell_type": "code",
      "source": [
        "conv=nn.Conv2d(in_channels=3,out_channels=768,padding=0,kernel_size=patch_size,stride=patch_size)"
      ],
      "metadata": {
        "id": "-g9ZkI-eUXeO"
      },
      "execution_count": 30,
      "outputs": []
    },
    {
      "cell_type": "markdown",
      "source": [
        "## Note: I have understood why the out_channels is equal to 768"
      ],
      "metadata": {
        "id": "x5Id8rkHiwYT"
      }
    },
    {
      "cell_type": "code",
      "source": [
        "# Pass the image through the convolutional layer \n",
        "image_out_of_conv = conv(images_batch[0].unsqueeze(0)) # add a single batch dimension (height, width, color_channels) -> (batch, height, width, color_channels)\n",
        "print(image_out_of_conv.shape)"
      ],
      "metadata": {
        "colab": {
          "base_uri": "https://localhost:8080/"
        },
        "id": "CPcR7CPdT3DI",
        "outputId": "28315302-5b84-4d9b-b5e9-53401527e3b5"
      },
      "execution_count": 31,
      "outputs": [
        {
          "output_type": "stream",
          "name": "stdout",
          "text": [
            "torch.Size([1, 768, 14, 14])\n"
          ]
        }
      ]
    },
    {
      "cell_type": "code",
      "source": [
        "# In turn, taking the number of feature maps equal to 768 in above equation has given us a resultant feature map of 14X14. Each block in this matrix\n",
        "# is represented by a tensor of shape 768. This is equivalent to the unrolling operation.\n",
        "image_out_of_conv[0,:,1,13].shape"
      ],
      "metadata": {
        "id": "05IJ-YmH3M2u",
        "outputId": "e0da00c2-1e65-467d-a996-a6b03b65d5eb",
        "colab": {
          "base_uri": "https://localhost:8080/"
        }
      },
      "execution_count": 32,
      "outputs": [
        {
          "output_type": "execute_result",
          "data": {
            "text/plain": [
              "torch.Size([768])"
            ]
          },
          "metadata": {},
          "execution_count": 32
        }
      ]
    },
    {
      "cell_type": "markdown",
      "source": [
        "The height and width of feature maps is 14,14"
      ],
      "metadata": {
        "id": "nyv8wOM6jHBf"
      }
    },
    {
      "cell_type": "code",
      "source": [
        "## Lets visualize some feature maps\n",
        "\n",
        "import random \n",
        "\n",
        "random_indices=random.sample(range(0,767),3)\n",
        "\n",
        "fig,axes=plt.subplots(nrows=1,ncols=3, figsize=(10,10))\n",
        "\n",
        "for i, idx in enumerate(random_indices):\n",
        "  feature_map=image_out_of_conv[:,idx,:,:].squeeze().detach().numpy()\n",
        "  axes[i].imshow(feature_map)\n",
        "\n"
      ],
      "metadata": {
        "colab": {
          "base_uri": "https://localhost:8080/",
          "height": 288
        },
        "id": "4YcpWlNwkiEJ",
        "outputId": "0f153509-85ef-4bf7-b5f7-017f1f1db18e"
      },
      "execution_count": 33,
      "outputs": [
        {
          "output_type": "display_data",
          "data": {
            "text/plain": [
              "<Figure size 1000x1000 with 3 Axes>"
            ],
            "image/png": "[encoded data removed]"
          },
          "metadata": {}
        }
      ]
    },
    {
      "cell_type": "markdown",
      "source": [
        "### These feature maps are nothing but learnable embeddings "
      ],
      "metadata": {
        "id": "U8KXwAaV4-WN"
      }
    },
    {
      "cell_type": "markdown",
      "source": [
        "## In the above cells, we saw the unrolling operation i.e how to convert patches into embeddings. Now we want to flatten the patches to get the embeddings into correct shape"
      ],
      "metadata": {
        "id": "tsd2aSOY5PfB"
      }
    },
    {
      "cell_type": "code",
      "source": [
        "### Flattening patch embeddings to get shape: (196,768)\n",
        "\n",
        "# Lets see what we have now:\n",
        "print(image_out_of_conv.shape)\n"
      ],
      "metadata": {
        "colab": {
          "base_uri": "https://localhost:8080/"
        },
        "id": "sLhA_XONlT4N",
        "outputId": "8355d40f-0dc2-479c-9fcd-ac546c0e7eaf"
      },
      "execution_count": 34,
      "outputs": [
        {
          "output_type": "stream",
          "name": "stdout",
          "text": [
            "torch.Size([1, 768, 14, 14])\n"
          ]
        }
      ]
    },
    {
      "cell_type": "markdown",
      "source": [
        "### The above represents a feature map of dimension 14X14. Each cell of the feature map is represented by a tensor of shape 768. This in turn is telling us that each cell in the feature map is the embedding representing each patch of the image"
      ],
      "metadata": {
        "id": "4maO9K_W6Ltj"
      }
    },
    {
      "cell_type": "code",
      "source": [
        "image_out_of_conv_reshaped=image_out_of_conv.view(1,768,196)"
      ],
      "metadata": {
        "id": "8Fe4Ufh16J0I"
      },
      "execution_count": 35,
      "outputs": []
    },
    {
      "cell_type": "code",
      "source": [
        "# This tells us that our image has been broken down into 196 patches and each patch is represented by an embedding of size 768\n",
        "image_out_of_conv_reshaped.shape"
      ],
      "metadata": {
        "id": "_0MA-AI28BTb",
        "outputId": "a52e3dfa-2ed0-42b0-fd5b-7d7bd7a488ba",
        "colab": {
          "base_uri": "https://localhost:8080/"
        }
      },
      "execution_count": 36,
      "outputs": [
        {
          "output_type": "execute_result",
          "data": {
            "text/plain": [
              "torch.Size([1, 768, 196])"
            ]
          },
          "metadata": {},
          "execution_count": 36
        }
      ]
    },
    {
      "cell_type": "code",
      "source": [
        "# A bit of rearrangement of tensor\n",
        "\n",
        "image_out_of_conv_rearranged=image_out_of_conv_reshaped.permute(0,2,1)"
      ],
      "metadata": {
        "id": "kDVg2t148DTD"
      },
      "execution_count": 37,
      "outputs": []
    },
    {
      "cell_type": "code",
      "source": [
        "image_out_of_conv_rearranged.shape"
      ],
      "metadata": {
        "id": "HLhvckxE9LSw",
        "outputId": "1cee2df0-5676-4334-e89f-0f2fbd20f5f7",
        "colab": {
          "base_uri": "https://localhost:8080/"
        }
      },
      "execution_count": 38,
      "outputs": [
        {
          "output_type": "execute_result",
          "data": {
            "text/plain": [
              "torch.Size([1, 196, 768])"
            ]
          },
          "metadata": {},
          "execution_count": 38
        }
      ]
    },
    {
      "cell_type": "markdown",
      "source": [
        "### This looks more like the expected input tensor which needs to be passed inside ViT"
      ],
      "metadata": {
        "id": "Sg6PI08f9SIy"
      }
    },
    {
      "cell_type": "markdown",
      "source": [
        "*****"
      ],
      "metadata": {
        "id": "tuk33TR69uly"
      }
    },
    {
      "cell_type": "markdown",
      "source": [
        "### Alternative approach to patching i.e without convolution"
      ],
      "metadata": {
        "id": "k6p_ZffexGmf"
      }
    },
    {
      "cell_type": "code",
      "source": [
        "image_unsqeezed=torch.unsqueeze(images_batch[0],dim=0)"
      ],
      "metadata": {
        "id": "zRnoVt1sxZPB"
      },
      "execution_count": 39,
      "outputs": []
    },
    {
      "cell_type": "code",
      "source": [
        "image_unsqeezed.shape"
      ],
      "metadata": {
        "colab": {
          "base_uri": "https://localhost:8080/"
        },
        "id": "yBfkw7kYyDJa",
        "outputId": "48648643-e1b9-4b4c-a9a3-7bb213197bd7"
      },
      "execution_count": 40,
      "outputs": [
        {
          "output_type": "execute_result",
          "data": {
            "text/plain": [
              "torch.Size([1, 3, 224, 224])"
            ]
          },
          "metadata": {},
          "execution_count": 40
        }
      ]
    },
    {
      "cell_type": "code",
      "source": [
        "n, c, h, w = image_unsqeezed.shape\n",
        "\n",
        "assert h == w, \"Patchify method is implemented for square images only\"\n",
        "\n",
        "patches = torch.zeros(n, 14 ** 2, h * w * c // (14 ** 2))\n",
        "patch_size = 16\n",
        "\n",
        "for idx, image in enumerate(image_unsqeezed):\n",
        "    for i in range(14):\n",
        "        for j in range(14):\n",
        "            patch = image[:, i * patch_size: (i + 1) * patch_size, j * patch_size: (j + 1) * patch_size] ## get all color channels and a patch from the image\n",
        "            print(patch.shape)\n",
        "            patches[idx, i * 14 + j] = patch.flatten() # This will flatten pathces into a 1d tensor\n",
        "            print(idx, i * 14 + j)"
      ],
      "metadata": {
        "id": "Z_SSkK5g9NnM",
        "colab": {
          "base_uri": "https://localhost:8080/"
        },
        "outputId": "d2a8e679-b756-41f4-f837-c0940d66cfad"
      },
      "execution_count": 41,
      "outputs": [
        {
          "output_type": "stream",
          "name": "stdout",
          "text": [
            "torch.Size([3, 16, 16])\n",
            "0 0\n",
            "torch.Size([3, 16, 16])\n",
            "0 1\n",
            "torch.Size([3, 16, 16])\n",
            "0 2\n",
            "torch.Size([3, 16, 16])\n",
            "0 3\n",
            "torch.Size([3, 16, 16])\n",
            "0 4\n",
            "torch.Size([3, 16, 16])\n",
            "0 5\n",
            "torch.Size([3, 16, 16])\n",
            "0 6\n",
            "torch.Size([3, 16, 16])\n",
            "0 7\n",
            "torch.Size([3, 16, 16])\n",
            "0 8\n",
            "torch.Size([3, 16, 16])\n",
            "0 9\n",
            "torch.Size([3, 16, 16])\n",
            "0 10\n",
            "torch.Size([3, 16, 16])\n",
            "0 11\n",
            "torch.Size([3, 16, 16])\n",
            "0 12\n",
            "torch.Size([3, 16, 16])\n",
            "0 13\n",
            "torch.Size([3, 16, 16])\n",
            "0 14\n",
            "torch.Size([3, 16, 16])\n",
            "0 15\n",
            "torch.Size([3, 16, 16])\n",
            "0 16\n",
            "torch.Size([3, 16, 16])\n",
            "0 17\n",
            "torch.Size([3, 16, 16])\n",
            "0 18\n",
            "torch.Size([3, 16, 16])\n",
            "0 19\n",
            "torch.Size([3, 16, 16])\n",
            "0 20\n",
            "torch.Size([3, 16, 16])\n",
            "0 21\n",
            "torch.Size([3, 16, 16])\n",
            "0 22\n",
            "torch.Size([3, 16, 16])\n",
            "0 23\n",
            "torch.Size([3, 16, 16])\n",
            "0 24\n",
            "torch.Size([3, 16, 16])\n",
            "0 25\n",
            "torch.Size([3, 16, 16])\n",
            "0 26\n",
            "torch.Size([3, 16, 16])\n",
            "0 27\n",
            "torch.Size([3, 16, 16])\n",
            "0 28\n",
            "torch.Size([3, 16, 16])\n",
            "0 29\n",
            "torch.Size([3, 16, 16])\n",
            "0 30\n",
            "torch.Size([3, 16, 16])\n",
            "0 31\n",
            "torch.Size([3, 16, 16])\n",
            "0 32\n",
            "torch.Size([3, 16, 16])\n",
            "0 33\n",
            "torch.Size([3, 16, 16])\n",
            "0 34\n",
            "torch.Size([3, 16, 16])\n",
            "0 35\n",
            "torch.Size([3, 16, 16])\n",
            "0 36\n",
            "torch.Size([3, 16, 16])\n",
            "0 37\n",
            "torch.Size([3, 16, 16])\n",
            "0 38\n",
            "torch.Size([3, 16, 16])\n",
            "0 39\n",
            "torch.Size([3, 16, 16])\n",
            "0 40\n",
            "torch.Size([3, 16, 16])\n",
            "0 41\n",
            "torch.Size([3, 16, 16])\n",
            "0 42\n",
            "torch.Size([3, 16, 16])\n",
            "0 43\n",
            "torch.Size([3, 16, 16])\n",
            "0 44\n",
            "torch.Size([3, 16, 16])\n",
            "0 45\n",
            "torch.Size([3, 16, 16])\n",
            "0 46\n",
            "torch.Size([3, 16, 16])\n",
            "0 47\n",
            "torch.Size([3, 16, 16])\n",
            "0 48\n",
            "torch.Size([3, 16, 16])\n",
            "0 49\n",
            "torch.Size([3, 16, 16])\n",
            "0 50\n",
            "torch.Size([3, 16, 16])\n",
            "0 51\n",
            "torch.Size([3, 16, 16])\n",
            "0 52\n",
            "torch.Size([3, 16, 16])\n",
            "0 53\n",
            "torch.Size([3, 16, 16])\n",
            "0 54\n",
            "torch.Size([3, 16, 16])\n",
            "0 55\n",
            "torch.Size([3, 16, 16])\n",
            "0 56\n",
            "torch.Size([3, 16, 16])\n",
            "0 57\n",
            "torch.Size([3, 16, 16])\n",
            "0 58\n",
            "torch.Size([3, 16, 16])\n",
            "0 59\n",
            "torch.Size([3, 16, 16])\n",
            "0 60\n",
            "torch.Size([3, 16, 16])\n",
            "0 61\n",
            "torch.Size([3, 16, 16])\n",
            "0 62\n",
            "torch.Size([3, 16, 16])\n",
            "0 63\n",
            "torch.Size([3, 16, 16])\n",
            "0 64\n",
            "torch.Size([3, 16, 16])\n",
            "0 65\n",
            "torch.Size([3, 16, 16])\n",
            "0 66\n",
            "torch.Size([3, 16, 16])\n",
            "0 67\n",
            "torch.Size([3, 16, 16])\n",
            "0 68\n",
            "torch.Size([3, 16, 16])\n",
            "0 69\n",
            "torch.Size([3, 16, 16])\n",
            "0 70\n",
            "torch.Size([3, 16, 16])\n",
            "0 71\n",
            "torch.Size([3, 16, 16])\n",
            "0 72\n",
            "torch.Size([3, 16, 16])\n",
            "0 73\n",
            "torch.Size([3, 16, 16])\n",
            "0 74\n",
            "torch.Size([3, 16, 16])\n",
            "0 75\n",
            "torch.Size([3, 16, 16])\n",
            "0 76\n",
            "torch.Size([3, 16, 16])\n",
            "0 77\n",
            "torch.Size([3, 16, 16])\n",
            "0 78\n",
            "torch.Size([3, 16, 16])\n",
            "0 79\n",
            "torch.Size([3, 16, 16])\n",
            "0 80\n",
            "torch.Size([3, 16, 16])\n",
            "0 81\n",
            "torch.Size([3, 16, 16])\n",
            "0 82\n",
            "torch.Size([3, 16, 16])\n",
            "0 83\n",
            "torch.Size([3, 16, 16])\n",
            "0 84\n",
            "torch.Size([3, 16, 16])\n",
            "0 85\n",
            "torch.Size([3, 16, 16])\n",
            "0 86\n",
            "torch.Size([3, 16, 16])\n",
            "0 87\n",
            "torch.Size([3, 16, 16])\n",
            "0 88\n",
            "torch.Size([3, 16, 16])\n",
            "0 89\n",
            "torch.Size([3, 16, 16])\n",
            "0 90\n",
            "torch.Size([3, 16, 16])\n",
            "0 91\n",
            "torch.Size([3, 16, 16])\n",
            "0 92\n",
            "torch.Size([3, 16, 16])\n",
            "0 93\n",
            "torch.Size([3, 16, 16])\n",
            "0 94\n",
            "torch.Size([3, 16, 16])\n",
            "0 95\n",
            "torch.Size([3, 16, 16])\n",
            "0 96\n",
            "torch.Size([3, 16, 16])\n",
            "0 97\n",
            "torch.Size([3, 16, 16])\n",
            "0 98\n",
            "torch.Size([3, 16, 16])\n",
            "0 99\n",
            "torch.Size([3, 16, 16])\n",
            "0 100\n",
            "torch.Size([3, 16, 16])\n",
            "0 101\n",
            "torch.Size([3, 16, 16])\n",
            "0 102\n",
            "torch.Size([3, 16, 16])\n",
            "0 103\n",
            "torch.Size([3, 16, 16])\n",
            "0 104\n",
            "torch.Size([3, 16, 16])\n",
            "0 105\n",
            "torch.Size([3, 16, 16])\n",
            "0 106\n",
            "torch.Size([3, 16, 16])\n",
            "0 107\n",
            "torch.Size([3, 16, 16])\n",
            "0 108\n",
            "torch.Size([3, 16, 16])\n",
            "0 109\n",
            "torch.Size([3, 16, 16])\n",
            "0 110\n",
            "torch.Size([3, 16, 16])\n",
            "0 111\n",
            "torch.Size([3, 16, 16])\n",
            "0 112\n",
            "torch.Size([3, 16, 16])\n",
            "0 113\n",
            "torch.Size([3, 16, 16])\n",
            "0 114\n",
            "torch.Size([3, 16, 16])\n",
            "0 115\n",
            "torch.Size([3, 16, 16])\n",
            "0 116\n",
            "torch.Size([3, 16, 16])\n",
            "0 117\n",
            "torch.Size([3, 16, 16])\n",
            "0 118\n",
            "torch.Size([3, 16, 16])\n",
            "0 119\n",
            "torch.Size([3, 16, 16])\n",
            "0 120\n",
            "torch.Size([3, 16, 16])\n",
            "0 121\n",
            "torch.Size([3, 16, 16])\n",
            "0 122\n",
            "torch.Size([3, 16, 16])\n",
            "0 123\n",
            "torch.Size([3, 16, 16])\n",
            "0 124\n",
            "torch.Size([3, 16, 16])\n",
            "0 125\n",
            "torch.Size([3, 16, 16])\n",
            "0 126\n",
            "torch.Size([3, 16, 16])\n",
            "0 127\n",
            "torch.Size([3, 16, 16])\n",
            "0 128\n",
            "torch.Size([3, 16, 16])\n",
            "0 129\n",
            "torch.Size([3, 16, 16])\n",
            "0 130\n",
            "torch.Size([3, 16, 16])\n",
            "0 131\n",
            "torch.Size([3, 16, 16])\n",
            "0 132\n",
            "torch.Size([3, 16, 16])\n",
            "0 133\n",
            "torch.Size([3, 16, 16])\n",
            "0 134\n",
            "torch.Size([3, 16, 16])\n",
            "0 135\n",
            "torch.Size([3, 16, 16])\n",
            "0 136\n",
            "torch.Size([3, 16, 16])\n",
            "0 137\n",
            "torch.Size([3, 16, 16])\n",
            "0 138\n",
            "torch.Size([3, 16, 16])\n",
            "0 139\n",
            "torch.Size([3, 16, 16])\n",
            "0 140\n",
            "torch.Size([3, 16, 16])\n",
            "0 141\n",
            "torch.Size([3, 16, 16])\n",
            "0 142\n",
            "torch.Size([3, 16, 16])\n",
            "0 143\n",
            "torch.Size([3, 16, 16])\n",
            "0 144\n",
            "torch.Size([3, 16, 16])\n",
            "0 145\n",
            "torch.Size([3, 16, 16])\n",
            "0 146\n",
            "torch.Size([3, 16, 16])\n",
            "0 147\n",
            "torch.Size([3, 16, 16])\n",
            "0 148\n",
            "torch.Size([3, 16, 16])\n",
            "0 149\n",
            "torch.Size([3, 16, 16])\n",
            "0 150\n",
            "torch.Size([3, 16, 16])\n",
            "0 151\n",
            "torch.Size([3, 16, 16])\n",
            "0 152\n",
            "torch.Size([3, 16, 16])\n",
            "0 153\n",
            "torch.Size([3, 16, 16])\n",
            "0 154\n",
            "torch.Size([3, 16, 16])\n",
            "0 155\n",
            "torch.Size([3, 16, 16])\n",
            "0 156\n",
            "torch.Size([3, 16, 16])\n",
            "0 157\n",
            "torch.Size([3, 16, 16])\n",
            "0 158\n",
            "torch.Size([3, 16, 16])\n",
            "0 159\n",
            "torch.Size([3, 16, 16])\n",
            "0 160\n",
            "torch.Size([3, 16, 16])\n",
            "0 161\n",
            "torch.Size([3, 16, 16])\n",
            "0 162\n",
            "torch.Size([3, 16, 16])\n",
            "0 163\n",
            "torch.Size([3, 16, 16])\n",
            "0 164\n",
            "torch.Size([3, 16, 16])\n",
            "0 165\n",
            "torch.Size([3, 16, 16])\n",
            "0 166\n",
            "torch.Size([3, 16, 16])\n",
            "0 167\n",
            "torch.Size([3, 16, 16])\n",
            "0 168\n",
            "torch.Size([3, 16, 16])\n",
            "0 169\n",
            "torch.Size([3, 16, 16])\n",
            "0 170\n",
            "torch.Size([3, 16, 16])\n",
            "0 171\n",
            "torch.Size([3, 16, 16])\n",
            "0 172\n",
            "torch.Size([3, 16, 16])\n",
            "0 173\n",
            "torch.Size([3, 16, 16])\n",
            "0 174\n",
            "torch.Size([3, 16, 16])\n",
            "0 175\n",
            "torch.Size([3, 16, 16])\n",
            "0 176\n",
            "torch.Size([3, 16, 16])\n",
            "0 177\n",
            "torch.Size([3, 16, 16])\n",
            "0 178\n",
            "torch.Size([3, 16, 16])\n",
            "0 179\n",
            "torch.Size([3, 16, 16])\n",
            "0 180\n",
            "torch.Size([3, 16, 16])\n",
            "0 181\n",
            "torch.Size([3, 16, 16])\n",
            "0 182\n",
            "torch.Size([3, 16, 16])\n",
            "0 183\n",
            "torch.Size([3, 16, 16])\n",
            "0 184\n",
            "torch.Size([3, 16, 16])\n",
            "0 185\n",
            "torch.Size([3, 16, 16])\n",
            "0 186\n",
            "torch.Size([3, 16, 16])\n",
            "0 187\n",
            "torch.Size([3, 16, 16])\n",
            "0 188\n",
            "torch.Size([3, 16, 16])\n",
            "0 189\n",
            "torch.Size([3, 16, 16])\n",
            "0 190\n",
            "torch.Size([3, 16, 16])\n",
            "0 191\n",
            "torch.Size([3, 16, 16])\n",
            "0 192\n",
            "torch.Size([3, 16, 16])\n",
            "0 193\n",
            "torch.Size([3, 16, 16])\n",
            "0 194\n",
            "torch.Size([3, 16, 16])\n",
            "0 195\n"
          ]
        }
      ]
    },
    {
      "cell_type": "code",
      "source": [
        "patches.shape"
      ],
      "metadata": {
        "colab": {
          "base_uri": "https://localhost:8080/"
        },
        "id": "rNxnq_XwyNgZ",
        "outputId": "7d5c2fa1-8de6-47ba-81de-51ec1e7d01f0"
      },
      "execution_count": 42,
      "outputs": [
        {
          "output_type": "execute_result",
          "data": {
            "text/plain": [
              "torch.Size([1, 196, 768])"
            ]
          },
          "metadata": {},
          "execution_count": 42
        }
      ]
    },
    {
      "cell_type": "code",
      "source": [
        "patch_size"
      ],
      "metadata": {
        "colab": {
          "base_uri": "https://localhost:8080/"
        },
        "id": "ddTnIyoIzwiP",
        "outputId": "d3f8d5b1-5911-4903-b471-efecf1ea5734"
      },
      "execution_count": 43,
      "outputs": [
        {
          "output_type": "execute_result",
          "data": {
            "text/plain": [
              "16"
            ]
          },
          "metadata": {},
          "execution_count": 43
        }
      ]
    },
    {
      "cell_type": "markdown",
      "source": [
        "****\n",
        "## The flattened patches need to be passed through a linear layer"
      ],
      "metadata": {
        "id": "gIBq_6l147-i"
      }
    },
    {
      "cell_type": "code",
      "source": [
        "# We have matrix of the following shape\n",
        "patches[0,:,:].shape"
      ],
      "metadata": {
        "colab": {
          "base_uri": "https://localhost:8080/"
        },
        "id": "tBSmpyQo0Du2",
        "outputId": "43a54165-2203-475a-f392-93a452749a3c"
      },
      "execution_count": 44,
      "outputs": [
        {
          "output_type": "execute_result",
          "data": {
            "text/plain": [
              "torch.Size([196, 768])"
            ]
          },
          "metadata": {},
          "execution_count": 44
        }
      ]
    },
    {
      "cell_type": "code",
      "source": [
        "# If we pass the patches through the linear layer, it means matrix multiplication. \n",
        "\n",
        "patches_after_linear_projection=nn.Linear(768,384)(patches)"
      ],
      "metadata": {
        "id": "JxXFVEhU5GyC"
      },
      "execution_count": 45,
      "outputs": []
    },
    {
      "cell_type": "code",
      "source": [
        "# The linear operation happens only at the last dimension\n",
        "patches_after_linear_projection.shape"
      ],
      "metadata": {
        "colab": {
          "base_uri": "https://localhost:8080/"
        },
        "id": "9g4aB4by9aw7",
        "outputId": "85f2bca3-653a-4b5c-f6ec-72a9ebe43284"
      },
      "execution_count": 46,
      "outputs": [
        {
          "output_type": "execute_result",
          "data": {
            "text/plain": [
              "torch.Size([1, 196, 384])"
            ]
          },
          "metadata": {},
          "execution_count": 46
        }
      ]
    },
    {
      "cell_type": "markdown",
      "source": [
        "****\n",
        "## According to the architecture, we must now add a CLS token as well"
      ],
      "metadata": {
        "id": "qmnrqq_aAggd"
      }
    },
    {
      "cell_type": "code",
      "source": [
        "# This representation will be learnable\n",
        "cls_token=nn.Parameter(torch.ones((1,1,384)))"
      ],
      "metadata": {
        "id": "xhymBhZ69cqM"
      },
      "execution_count": 47,
      "outputs": []
    },
    {
      "cell_type": "code",
      "source": [
        "# The shape is 1,1,384 because a cls token is present per image hence the first 1, the second 1 because only 1 token needs to be added, 384 because the patch embeddings are of the same shape\n",
        "cls_token.shape"
      ],
      "metadata": {
        "colab": {
          "base_uri": "https://localhost:8080/"
        },
        "id": "bF1oYH8vA8JD",
        "outputId": "fcc0320b-2178-4288-bf0f-2ba4deacaf3f"
      },
      "execution_count": 48,
      "outputs": [
        {
          "output_type": "execute_result",
          "data": {
            "text/plain": [
              "torch.Size([1, 1, 384])"
            ]
          },
          "metadata": {},
          "execution_count": 48
        }
      ]
    },
    {
      "cell_type": "code",
      "source": [
        "patch_embedding_with_cls=torch.cat((cls_token,patches_after_linear_projection),dim=1)"
      ],
      "metadata": {
        "id": "Pde-MxlIA9_H"
      },
      "execution_count": 49,
      "outputs": []
    },
    {
      "cell_type": "code",
      "source": [
        "patch_embedding_with_cls[0,:10,:]"
      ],
      "metadata": {
        "colab": {
          "base_uri": "https://localhost:8080/"
        },
        "id": "vk3eVGnCBch3",
        "outputId": "5852e048-cea1-46b8-f16c-c9d80255fc03"
      },
      "execution_count": 50,
      "outputs": [
        {
          "output_type": "execute_result",
          "data": {
            "text/plain": [
              "tensor([[ 1.0000,  1.0000,  1.0000,  ...,  1.0000,  1.0000,  1.0000],\n",
              "        [-0.0416, -0.0552,  0.0082,  ..., -0.0163, -0.1601, -0.1510],\n",
              "        [-0.0723, -0.1034,  0.0234,  ..., -0.0373, -0.1276, -0.0953],\n",
              "        ...,\n",
              "        [-0.1596, -0.1503,  0.0044,  ..., -0.0047, -0.2535, -0.2600],\n",
              "        [-0.1438, -0.1555,  0.0238,  ..., -0.0189, -0.2133, -0.2395],\n",
              "        [-0.1517, -0.1469,  0.0136,  ..., -0.0065, -0.2031, -0.2223]],\n",
              "       grad_fn=<SliceBackward0>)"
            ]
          },
          "metadata": {},
          "execution_count": 50
        }
      ]
    },
    {
      "cell_type": "markdown",
      "source": [
        "### As you can see, the first embedding has all ones. This is the cls token embedding"
      ],
      "metadata": {
        "id": "vZ1gWC6iBzx5"
      }
    },
    {
      "cell_type": "markdown",
      "source": [
        "### Note: I have intialized the cls token using torch.ones but in reality this should be done using torch.randn"
      ],
      "metadata": {
        "id": "0aVZ4U7xCBVZ"
      }
    },
    {
      "cell_type": "markdown",
      "source": [
        "****\n",
        "## Adding positional encoding"
      ],
      "metadata": {
        "id": "6Dp-Xz2EGRAo"
      }
    },
    {
      "cell_type": "code",
      "source": [
        "## Taken from https://medium.com/mlearning-ai/vision-transformers-from-scratch-pytorch-a-step-by-step-guide-96c3313c2e0c\n",
        "\n",
        "def get_positional_embeddings(sequence_length, d):\n",
        "    \n",
        "    result = torch.ones(sequence_length, d)\n",
        "    for i in range(sequence_length):\n",
        "        for j in range(d):\n",
        "            result[i][j] = np.sin(i / (10000 ** (j / d))) if j % 2 == 0 else np.cos(i / (10000 ** ((j - 1) / d)))\n",
        "    return result"
      ],
      "metadata": {
        "id": "hFFWnXLlBjuo"
      },
      "execution_count": 51,
      "outputs": []
    },
    {
      "cell_type": "code",
      "source": [
        "plt.imshow(get_positional_embeddings(100, 300), cmap=\"hot\", interpolation=\"nearest\")\n",
        "plt.show()"
      ],
      "metadata": {
        "colab": {
          "base_uri": "https://localhost:8080/",
          "height": 230
        },
        "id": "tMGN-S0QG9k3",
        "outputId": "b27ce11a-5d4a-4a37-964b-692307935bba"
      },
      "execution_count": 52,
      "outputs": [
        {
          "output_type": "display_data",
          "data": {
            "text/plain": [
              "<Figure size 640x480 with 1 Axes>"
            ],
            "image/png": "[encoded data removed]"
          },
          "metadata": {}
        }
      ]
    },
    {
      "cell_type": "markdown",
      "source": [
        "**Note**: about positional encoding: The positional encoding is a function of number of elements in the sequence and the dimensionality of the embedding for each element. In our case, the number of elements are patches and embedding is the embedding for each patch"
      ],
      "metadata": {
        "id": "75aTppC2Ha2b"
      }
    },
    {
      "cell_type": "markdown",
      "source": [
        "Note: For each patch i, we add to its embedding value at j either sin(freq) or cos(freq) depending on the position of the value"
      ],
      "metadata": {
        "id": "FswhTViaIWgU"
      }
    },
    {
      "cell_type": "markdown",
      "source": [
        "Note: As we can see, all horizontal lines are unique in the diagram, we want this"
      ],
      "metadata": {
        "id": "9pByH2oiKWkp"
      }
    },
    {
      "cell_type": "code",
      "source": [
        "positional_embedding=nn.Parameter(torch.tensor(get_positional_embeddings(196+1, 384)))"
      ],
      "metadata": {
        "colab": {
          "base_uri": "https://localhost:8080/"
        },
        "id": "IB8w7sSlHIPo",
        "outputId": "61b268d9-bc70-47dc-b5ef-a6686d3a3718"
      },
      "execution_count": 53,
      "outputs": [
        {
          "output_type": "stream",
          "name": "stderr",
          "text": [
            "<ipython-input-53-7fc9d45b58b4>:1: UserWarning: To copy construct from a tensor, it is recommended to use sourceTensor.clone().detach() or sourceTensor.clone().detach().requires_grad_(True), rather than torch.tensor(sourceTensor).\n",
            "  positional_embedding=nn.Parameter(torch.tensor(get_positional_embeddings(196+1, 384)))\n"
          ]
        }
      ]
    },
    {
      "cell_type": "code",
      "source": [
        "positional_embedding=torch.unsqueeze(positional_embedding,dim=0)"
      ],
      "metadata": {
        "id": "oGdzh441Je9U"
      },
      "execution_count": 54,
      "outputs": []
    },
    {
      "cell_type": "code",
      "source": [
        "positional_embedding.shape"
      ],
      "metadata": {
        "colab": {
          "base_uri": "https://localhost:8080/"
        },
        "id": "Ihda6_HLJ_2I",
        "outputId": "2d5476d3-a0ee-4653-84cb-5ac8c6dc84e5"
      },
      "execution_count": 55,
      "outputs": [
        {
          "output_type": "execute_result",
          "data": {
            "text/plain": [
              "torch.Size([1, 197, 384])"
            ]
          },
          "metadata": {},
          "execution_count": 55
        }
      ]
    },
    {
      "cell_type": "code",
      "source": [
        "positional_embedding_with_patches_and_cls=patch_embedding_with_cls+positional_embedding"
      ],
      "metadata": {
        "id": "COw97rYVJhOE"
      },
      "execution_count": 56,
      "outputs": []
    },
    {
      "cell_type": "code",
      "source": [
        "positional_embedding_with_patches_and_cls.shape"
      ],
      "metadata": {
        "colab": {
          "base_uri": "https://localhost:8080/"
        },
        "id": "SfRNqg8iJvGA",
        "outputId": "dc97c529-2d81-4146-a965-46f9938d66bc"
      },
      "execution_count": 57,
      "outputs": [
        {
          "output_type": "execute_result",
          "data": {
            "text/plain": [
              "torch.Size([1, 197, 384])"
            ]
          },
          "metadata": {},
          "execution_count": 57
        }
      ]
    },
    {
      "cell_type": "code",
      "source": [
        "positional_embedding_with_patches_and_cls[0,:10,:]"
      ],
      "metadata": {
        "colab": {
          "base_uri": "https://localhost:8080/"
        },
        "id": "xpkvq5s9Kni3",
        "outputId": "0056a50e-4919-4143-affe-a9ee294405b3"
      },
      "execution_count": 58,
      "outputs": [
        {
          "output_type": "execute_result",
          "data": {
            "text/plain": [
              "tensor([[ 1.0000,  2.0000,  1.0000,  ...,  2.0000,  1.0000,  2.0000],\n",
              "        [ 0.7998,  0.4851,  0.8234,  ...,  0.9837, -0.1600,  0.8490],\n",
              "        [ 0.8369, -0.5196,  0.9676,  ...,  0.9627, -0.1274,  0.9047],\n",
              "        ...,\n",
              "        [ 0.4974,  0.6036,  0.3836,  ...,  0.9953, -0.2528,  0.7400],\n",
              "        [ 0.8455, -0.3010,  0.9977,  ...,  0.9811, -0.2125,  0.7605],\n",
              "        [ 0.2604, -1.0580,  0.7625,  ...,  0.9935, -0.2022,  0.7777]],\n",
              "       grad_fn=<SliceBackward0>)"
            ]
          },
          "metadata": {},
          "execution_count": 58
        }
      ]
    },
    {
      "cell_type": "markdown",
      "source": [
        "### Now we have patches for one image along with cls token at the start. We have also added positional encoding for each token"
      ],
      "metadata": {
        "id": "um2Oyw3EKGXb"
      }
    },
    {
      "cell_type": "markdown",
      "source": [
        "### We can also look at the tensor at 0th index"
      ],
      "metadata": {
        "id": "3G7Sy1JDLlI7"
      }
    },
    {
      "cell_type": "markdown",
      "source": [
        "**** \n",
        "### Now , we have patchifying mechanism, positional encoding, cls token.\n",
        "\n",
        "### We now what the transformer encoder"
      ],
      "metadata": {
        "id": "RsnnDqcnLvuL"
      }
    },
    {
      "cell_type": "markdown",
      "source": [
        "*****\n",
        "\n",
        "### Before building encoder, lets understand layer normalisation\n"
      ],
      "metadata": {
        "id": "TVYZXrdmcORm"
      }
    },
    {
      "cell_type": "markdown",
      "source": [
        "Layer normalisation will normalize along the feature dimension. In simple terms, layer normalization rescales and shifts the values of the input tensor such that the mean is zero and the standard deviation is one across the features of each sample. This process is performed independently for each sample in the batch and for each feature in the sample."
      ],
      "metadata": {
        "id": "sgSRKuLrhfFs"
      }
    },
    {
      "cell_type": "code",
      "source": [
        "import torch\n",
        "import torch.nn as nn\n",
        "\n",
        "# create a random input tensor with shape (batch_size=2, sequence_length=3, feature_dim=4)\n",
        "x = torch.randn((2, 3, 4))\n",
        "\n",
        "# define a layer normalization module for input tensor with feature_dim=4\n",
        "ln = nn.LayerNorm(x.size()[2])\n",
        "\n",
        "# apply layer normalization to input tensor x\n",
        "x_normalized = ln(x)\n",
        "\n",
        "# print the mean and standard deviation of x along the feature dimension\n",
        "print(\"Mean of x along feature dimension:\", torch.mean(x, dim=-1))\n",
        "print(\"Standard deviation of x along feature dimension:\", torch.std(x, dim=-1))\n",
        "\n",
        "# print the mean and standard deviation of the normalized tensor x_normalized along the feature dimension\n",
        "print(\"Mean of x_normalized along feature dimension:\", torch.mean(x_normalized, dim=-1))\n",
        "print(\"Standard deviation of x_normalized along feature dimension:\", torch.std(x_normalized, dim=-1))\n"
      ],
      "metadata": {
        "id": "UM-z50pzedqW",
        "outputId": "5a88ae3b-b881-431e-d465-93dcd83a1d0e",
        "colab": {
          "base_uri": "https://localhost:8080/"
        }
      },
      "execution_count": 59,
      "outputs": [
        {
          "output_type": "stream",
          "name": "stdout",
          "text": [
            "Mean of x along feature dimension: tensor([[ 0.0635,  0.8057,  0.0088],\n",
            "        [-0.7240, -1.1536,  0.7695]])\n",
            "Standard deviation of x along feature dimension: tensor([[0.6788, 0.3680, 0.6100],\n",
            "        [1.3355, 0.6318, 1.2164]])\n",
            "Mean of x_normalized along feature dimension: tensor([[-7.4506e-09,  1.4901e-07, -2.9802e-08],\n",
            "        [ 2.9802e-08,  7.4506e-08, -4.4703e-08]], grad_fn=<MeanBackward1>)\n",
            "Standard deviation of x_normalized along feature dimension: tensor([[1.1547, 1.1546, 1.1547],\n",
            "        [1.1547, 1.1547, 1.1547]], grad_fn=<StdBackward0>)\n"
          ]
        }
      ]
    },
    {
      "cell_type": "markdown",
      "source": [
        "### Understanding mean and std along the last dimension."
      ],
      "metadata": {
        "id": "gR4-iZFUihNQ"
      }
    },
    {
      "cell_type": "code",
      "source": [
        "x"
      ],
      "metadata": {
        "id": "arm9YO0ogRB3",
        "outputId": "84c759d2-37fe-4f95-e8d5-2df18f4513dc",
        "colab": {
          "base_uri": "https://localhost:8080/"
        }
      },
      "execution_count": 60,
      "outputs": [
        {
          "output_type": "execute_result",
          "data": {
            "text/plain": [
              "tensor([[[-0.6325,  0.0102,  0.9925, -0.1160],\n",
              "         [ 1.1836,  1.0290,  0.6331,  0.3771],\n",
              "         [-0.8472,  0.5945,  0.1007,  0.1873]],\n",
              "\n",
              "        [[-0.8238,  0.9978, -0.8066, -2.2633],\n",
              "         [-2.0505, -1.1130, -0.6138, -0.8371],\n",
              "         [ 0.5846,  2.1216, -0.7877,  1.1595]]])"
            ]
          },
          "metadata": {},
          "execution_count": 60
        }
      ]
    },
    {
      "cell_type": "code",
      "source": [
        "torch.mean(x,dim=2)"
      ],
      "metadata": {
        "id": "nKvw4UYSf2yu",
        "outputId": "cb248b29-4cdd-4594-cbc6-d077a26630bd",
        "colab": {
          "base_uri": "https://localhost:8080/"
        }
      },
      "execution_count": 61,
      "outputs": [
        {
          "output_type": "execute_result",
          "data": {
            "text/plain": [
              "tensor([[ 0.0635,  0.8057,  0.0088],\n",
              "        [-0.7240, -1.1536,  0.7695]])"
            ]
          },
          "metadata": {},
          "execution_count": 61
        }
      ]
    },
    {
      "cell_type": "code",
      "source": [
        "(1.4581+1.8807)/2"
      ],
      "metadata": {
        "id": "AjeLYI8wgC7_",
        "outputId": "1e2ff053-ea6d-4ea6-e195-0ac19ad2eb81",
        "colab": {
          "base_uri": "https://localhost:8080/"
        }
      },
      "execution_count": 62,
      "outputs": [
        {
          "output_type": "execute_result",
          "data": {
            "text/plain": [
              "1.6694"
            ]
          },
          "metadata": {},
          "execution_count": 62
        }
      ]
    },
    {
      "cell_type": "code",
      "source": [
        "(1.4581+-0.7313+2.1723)/3"
      ],
      "metadata": {
        "id": "48Smesupgalw",
        "outputId": "feb41067-408d-4022-f287-4a8ef76e4133",
        "colab": {
          "base_uri": "https://localhost:8080/"
        }
      },
      "execution_count": 63,
      "outputs": [
        {
          "output_type": "execute_result",
          "data": {
            "text/plain": [
              "0.9663666666666666"
            ]
          },
          "metadata": {},
          "execution_count": 63
        }
      ]
    },
    {
      "cell_type": "code",
      "source": [
        "(-0.7313 + -0.4717 + 1.2899 +-0.2260)/4"
      ],
      "metadata": {
        "id": "5Y0ZYo7qg8z-",
        "outputId": "307ab43d-3d92-48d8-db7f-9e75a48bf7a6",
        "colab": {
          "base_uri": "https://localhost:8080/"
        }
      },
      "execution_count": 64,
      "outputs": [
        {
          "output_type": "execute_result",
          "data": {
            "text/plain": [
              "-0.03477499999999995"
            ]
          },
          "metadata": {},
          "execution_count": 64
        }
      ]
    },
    {
      "cell_type": "markdown",
      "source": [
        "### To summarize, what layer normalisation does is, for each feature in a sample, in our case for each patch embedding, normalisation is performed such that the embeddings for a patch are normalized"
      ],
      "metadata": {
        "id": "mkhm74ALiqNE"
      }
    },
    {
      "cell_type": "markdown",
      "source": [
        "****\n",
        "## In comes mulithead attention: Not the most optimal but very helpful for learning"
      ],
      "metadata": {
        "id": "-xY813RlvPnL"
      }
    },
    {
      "cell_type": "code",
      "source": [
        "class MyMSA(nn.Module):\n",
        "    def __init__(self, d, n_heads=2):\n",
        "        super(MyMSA, self).__init__()\n",
        "        self.d = d\n",
        "        self.n_heads = n_heads\n",
        "\n",
        "        assert d % n_heads == 0, f\"Can't divide dimension {d} into {n_heads} heads\"\n",
        "\n",
        "        d_head = int(d / n_heads)\n",
        "\n",
        "        self.q_mappings = nn.ModuleList([nn.Linear(d_head, d_head) for _ in range(self.n_heads)])\n",
        "        self.k_mappings = nn.ModuleList([nn.Linear(d_head, d_head) for _ in range(self.n_heads)])\n",
        "        self.v_mappings = nn.ModuleList([nn.Linear(d_head, d_head) for _ in range(self.n_heads)])\n",
        "        self.d_head = d_head\n",
        "        self.softmax = nn.Softmax(dim=-1)\n",
        "\n",
        "    def forward(self, sequences):\n",
        "        # Sequences has shape (N, seq_length, token_dim)\n",
        "        # We go into shape    (N, seq_length, n_heads, token_dim / n_heads)\n",
        "        # And come back to    (N, seq_length, item_dim)  (through concatenation)\n",
        "        result = []\n",
        "        for sequence in sequences:\n",
        "            print(sequence.shape)\n",
        "            seq_result = []\n",
        "            for head in range(self.n_heads):\n",
        "                q_mapping = self.q_mappings[head]\n",
        "                k_mapping = self.k_mappings[head]\n",
        "                v_mapping = self.v_mappings[head]\n",
        "\n",
        "                seq = sequence[:, head * self.d_head: (head + 1) * self.d_head]\n",
        "                print(seq.shape)\n",
        "                q, k, v = q_mapping(seq), k_mapping(seq), v_mapping(seq)\n",
        "\n",
        "                attention = self.softmax(q @ k.T / (self.d_head ** 0.5))\n",
        "                seq_result.append(attention @ v)\n",
        "                print(seq_result)\n",
        "            result.append(torch.hstack(seq_result))\n",
        "        return torch.cat([torch.unsqueeze(r, dim=0) for r in result])"
      ],
      "metadata": {
        "id": "f9wF-yZZvWD4"
      },
      "execution_count": 71,
      "outputs": []
    },
    {
      "cell_type": "code",
      "source": [
        "random_sequence=torch.randn(1,5,8)"
      ],
      "metadata": {
        "id": "geZ5ye20va26"
      },
      "execution_count": 72,
      "outputs": []
    },
    {
      "cell_type": "code",
      "source": [
        "mha=MyMSA(8)"
      ],
      "metadata": {
        "id": "cCdR2hImxNW1"
      },
      "execution_count": 73,
      "outputs": []
    },
    {
      "cell_type": "code",
      "source": [
        "# Each of the heads will focus on different subsection of the input tensor. First head will focus on first subsection on length 4 and the second head will focus on 2nd subsection\n",
        "mha_result=mha(random_sequence)"
      ],
      "metadata": {
        "id": "BQ4MNrGRywNS",
        "outputId": "5407b0fe-ab55-4d0e-b27b-122828b035b0",
        "colab": {
          "base_uri": "https://localhost:8080/"
        }
      },
      "execution_count": 74,
      "outputs": [
        {
          "output_type": "stream",
          "name": "stdout",
          "text": [
            "torch.Size([5, 8])\n",
            "torch.Size([5, 4])\n",
            "[tensor([[ 0.3847, -0.2171,  0.0323, -0.6025],\n",
            "        [ 0.4172, -0.2370,  0.0457, -0.6055],\n",
            "        [ 0.4599, -0.2602,  0.0611, -0.6092],\n",
            "        [ 0.3856, -0.2160,  0.0316, -0.6025],\n",
            "        [ 0.3812, -0.2266,  0.0386, -0.6026]], grad_fn=<MmBackward0>)]\n",
            "torch.Size([5, 4])\n",
            "[tensor([[ 0.3847, -0.2171,  0.0323, -0.6025],\n",
            "        [ 0.4172, -0.2370,  0.0457, -0.6055],\n",
            "        [ 0.4599, -0.2602,  0.0611, -0.6092],\n",
            "        [ 0.3856, -0.2160,  0.0316, -0.6025],\n",
            "        [ 0.3812, -0.2266,  0.0386, -0.6026]], grad_fn=<MmBackward0>), tensor([[-8.9488e-03,  7.8147e-01,  7.8399e-01, -1.4205e-01],\n",
            "        [ 3.9598e-04,  8.2554e-01,  7.1951e-01, -8.5951e-02],\n",
            "        [ 2.3646e-02,  8.9195e-01,  6.5731e-01, -1.3658e-02],\n",
            "        [-2.4397e-02,  7.9660e-01,  7.5593e-01, -9.9331e-02],\n",
            "        [-2.7049e-02,  7.5690e-01,  8.1494e-01, -1.5802e-01]],\n",
            "       grad_fn=<MmBackward0>)]\n"
          ]
        }
      ]
    },
    {
      "cell_type": "code",
      "source": [
        "mha_result"
      ],
      "metadata": {
        "id": "xswUwrRZ9BnF",
        "outputId": "7da5ffc8-3ab7-4a05-bf21-6b65f284be35",
        "colab": {
          "base_uri": "https://localhost:8080/"
        }
      },
      "execution_count": 75,
      "outputs": [
        {
          "output_type": "execute_result",
          "data": {
            "text/plain": [
              "tensor([[[ 3.8466e-01, -2.1711e-01,  3.2310e-02, -6.0247e-01, -8.9488e-03,\n",
              "           7.8147e-01,  7.8399e-01, -1.4205e-01],\n",
              "         [ 4.1722e-01, -2.3699e-01,  4.5661e-02, -6.0547e-01,  3.9598e-04,\n",
              "           8.2554e-01,  7.1951e-01, -8.5951e-02],\n",
              "         [ 4.5986e-01, -2.6024e-01,  6.1078e-02, -6.0921e-01,  2.3646e-02,\n",
              "           8.9195e-01,  6.5731e-01, -1.3658e-02],\n",
              "         [ 3.8563e-01, -2.1598e-01,  3.1605e-02, -6.0249e-01, -2.4397e-02,\n",
              "           7.9660e-01,  7.5593e-01, -9.9331e-02],\n",
              "         [ 3.8117e-01, -2.2663e-01,  3.8572e-02, -6.0265e-01, -2.7049e-02,\n",
              "           7.5690e-01,  8.1494e-01, -1.5802e-01]]], grad_fn=<CatBackward0>)"
            ]
          },
          "metadata": {},
          "execution_count": 75
        }
      ]
    },
    {
      "cell_type": "code",
      "source": [
        "mha_result.shape"
      ],
      "metadata": {
        "id": "ZtKXMcrny5Go",
        "outputId": "e15db1b5-c226-41c9-815c-1699879273da",
        "colab": {
          "base_uri": "https://localhost:8080/"
        }
      },
      "execution_count": 69,
      "outputs": [
        {
          "output_type": "execute_result",
          "data": {
            "text/plain": [
              "torch.Size([1, 5, 8])"
            ]
          },
          "metadata": {},
          "execution_count": 69
        }
      ]
    },
    {
      "cell_type": "code",
      "source": [
        "# We have 2 heads, each head will have its own qkv matrix.\n",
        "# These matrices are nothing but leaner layers. A sequence is of length 8, since we have 2 heads, 1st head will work on the inital 4 elements and the next head will work on the next 4 elements.\n",
        "# Due to this reason, the in_feature=4\n",
        "mha.d,mha.q_mappings,mha.k_mappings,mha.v_mappings,mha.d_head\n"
      ],
      "metadata": {
        "id": "zhWSKPtPxWC2",
        "outputId": "7f9609de-8af6-47c0-ae92-a16c80f24b2a",
        "colab": {
          "base_uri": "https://localhost:8080/"
        }
      },
      "execution_count": 70,
      "outputs": [
        {
          "output_type": "execute_result",
          "data": {
            "text/plain": [
              "(8,\n",
              " ModuleList(\n",
              "   (0-1): 2 x Linear(in_features=4, out_features=4, bias=True)\n",
              " ),\n",
              " ModuleList(\n",
              "   (0-1): 2 x Linear(in_features=4, out_features=4, bias=True)\n",
              " ),\n",
              " ModuleList(\n",
              "   (0-1): 2 x Linear(in_features=4, out_features=4, bias=True)\n",
              " ),\n",
              " 4)"
            ]
          },
          "metadata": {},
          "execution_count": 70
        }
      ]
    },
    {
      "cell_type": "code",
      "source": [],
      "metadata": {
        "id": "AUlDcoI1xY-8"
      },
      "execution_count": 70,
      "outputs": []
    }
  ]
}