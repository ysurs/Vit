{
 "cells": [
  {
   "cell_type": "code",
   "execution_count": 19,
   "metadata": {},
   "outputs": [],
   "source": [
    "import torch"
   ]
  },
  {
   "cell_type": "code",
   "execution_count": 12,
   "metadata": {},
   "outputs": [
    {
     "name": "stdout",
     "output_type": "stream",
     "text": [
      "The autoreload extension is already loaded. To reload it, use:\n",
      "  %reload_ext autoreload\n"
     ]
    }
   ],
   "source": [
    "%load_ext autoreload\n",
    "%autoreload 2"
   ]
  },
  {
   "cell_type": "code",
   "execution_count": 79,
   "metadata": {},
   "outputs": [],
   "source": [
    "from mha import muliheaded_attention"
   ]
  },
  {
   "cell_type": "code",
   "execution_count": 80,
   "metadata": {},
   "outputs": [],
   "source": [
    "testing_mha=muliheaded_attention(4,2)"
   ]
  },
  {
   "cell_type": "code",
   "execution_count": 81,
   "metadata": {},
   "outputs": [
    {
     "data": {
      "text/plain": [
       "ModuleList(\n",
       "  (0): Linear(in_features=2, out_features=2, bias=True)\n",
       "  (1): Linear(in_features=2, out_features=2, bias=True)\n",
       ")"
      ]
     },
     "execution_count": 81,
     "metadata": {},
     "output_type": "execute_result"
    }
   ],
   "source": [
    "## Checking the module list output. We based on the number of heads we pass, we will have that many linear layers.\n",
    "testing_mha.q_mapping"
   ]
  },
  {
   "cell_type": "code",
   "execution_count": 82,
   "metadata": {},
   "outputs": [
    {
     "name": "stdout",
     "output_type": "stream",
     "text": [
      "tensor([[[ 1.6022,  0.3741,  1.6797,  0.7351],\n",
      "         [-1.9161,  0.1131,  0.0776, -0.5317],\n",
      "         [ 0.5763, -0.5550,  2.0243,  0.4050],\n",
      "         [ 0.1537, -0.4472,  0.0421, -1.8714],\n",
      "         [-0.5185,  2.2315, -0.9516, -2.4721]],\n",
      "\n",
      "        [[-1.1293, -0.7910,  0.7194, -0.3520],\n",
      "         [ 0.7536,  0.6839, -0.8130,  0.0744],\n",
      "         [-0.8604, -1.5326,  1.6219,  0.5150],\n",
      "         [ 0.3501, -0.7384,  0.7053,  1.2816],\n",
      "         [ 0.8611,  0.2857,  0.4982,  1.3929]]])\n",
      "torch.Size([5, 4])\n",
      "tensor([[0.6434, 0.3019],\n",
      "        [0.3340, 0.3247],\n",
      "        [0.5634, 0.3165],\n",
      "        [0.5217, 0.3224],\n",
      "        [0.4295, 0.3386]], grad_fn=<MmBackward0>)\n",
      "tensor([[0.0693, 0.4810],\n",
      "        [0.1540, 0.5581],\n",
      "        [0.1785, 0.6021],\n",
      "        [0.3732, 0.7872],\n",
      "        [0.3834, 0.7905]], grad_fn=<MmBackward0>)\n",
      "[tensor([[0.6434, 0.3019, 0.0693, 0.4810],\n",
      "        [0.3340, 0.3247, 0.1540, 0.5581],\n",
      "        [0.5634, 0.3165, 0.1785, 0.6021],\n",
      "        [0.5217, 0.3224, 0.3732, 0.7872],\n",
      "        [0.4295, 0.3386, 0.3834, 0.7905]], grad_fn=<CatBackward0>)]\n",
      "torch.Size([5, 4])\n",
      "tensor([[0.6761, 0.4490],\n",
      "        [0.8682, 0.4348],\n",
      "        [0.7166, 0.4463],\n",
      "        [0.8459, 0.4363],\n",
      "        [0.8894, 0.4327]], grad_fn=<MmBackward0>)\n",
      "tensor([[-0.2461,  0.7432],\n",
      "        [-0.3366,  0.6676],\n",
      "        [-0.3156,  0.7243],\n",
      "        [-0.4396,  0.6397],\n",
      "        [-0.4633,  0.6229]], grad_fn=<MmBackward0>)\n",
      "[tensor([[0.6434, 0.3019, 0.0693, 0.4810],\n",
      "        [0.3340, 0.3247, 0.1540, 0.5581],\n",
      "        [0.5634, 0.3165, 0.1785, 0.6021],\n",
      "        [0.5217, 0.3224, 0.3732, 0.7872],\n",
      "        [0.4295, 0.3386, 0.3834, 0.7905]], grad_fn=<CatBackward0>), tensor([[ 0.6761,  0.4490, -0.2461,  0.7432],\n",
      "        [ 0.8682,  0.4348, -0.3366,  0.6676],\n",
      "        [ 0.7166,  0.4463, -0.3156,  0.7243],\n",
      "        [ 0.8459,  0.4363, -0.4396,  0.6397],\n",
      "        [ 0.8894,  0.4327, -0.4633,  0.6229]], grad_fn=<CatBackward0>)]\n"
     ]
    }
   ],
   "source": [
    "# A random tensor representing 1 image, 5 patches and embedding size of each patch to be 4\n",
    "testing_tensor=torch.randn(2,5,4)\n",
    "print(testing_tensor)\n",
    "testing_mha(testing_tensor)"
   ]
  },
  {
   "attachments": {},
   "cell_type": "markdown",
   "metadata": {},
   "source": [
    "### Output says that 2 heads will perform calculations on 5 patches where embedding size is 4. Since we have 2 heads, the embedding will be broken down into size of 2 and 2 for each head."
   ]
  },
  {
   "cell_type": "code",
   "execution_count": 55,
   "metadata": {},
   "outputs": [],
   "source": [
    "import numpy as np"
   ]
  },
  {
   "cell_type": "code",
   "execution_count": null,
   "metadata": {},
   "outputs": [],
   "source": []
  }
 ],
 "metadata": {
  "kernelspec": {
   "display_name": "adapter_b",
   "language": "python",
   "name": "python3"
  },
  "language_info": {
   "codemirror_mode": {
    "name": "ipython",
    "version": 3
   },
   "file_extension": ".py",
   "mimetype": "text/x-python",
   "name": "python",
   "nbconvert_exporter": "python",
   "pygments_lexer": "ipython3",
   "version": "3.10.9"
  },
  "orig_nbformat": 4
 },
 "nbformat": 4,
 "nbformat_minor": 2
}
